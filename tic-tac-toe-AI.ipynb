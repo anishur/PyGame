{
 "cells": [
  {
   "cell_type": "code",
   "execution_count": null,
   "id": "3a02f8d5-1a60-45ad-b58a-4bc14b8106c6",
   "metadata": {},
   "outputs": [],
   "source": []
  },
  {
   "cell_type": "code",
   "execution_count": 1,
   "id": "b066e0ab-fadd-4b6c-a860-b9cbc5c79b90",
   "metadata": {},
   "outputs": [],
   "source": [
    "board = {1: ' ', 2: ' ', 3: ' ',\n",
    "         4: ' ', 5: ' ', 6: ' ',\n",
    "         7: ' ', 8: ' ', 9: ' '}\n"
   ]
  },
  {
   "cell_type": "code",
   "execution_count": 2,
   "id": "922712b9-b932-4d2b-849a-da8f32aafe05",
   "metadata": {},
   "outputs": [],
   "source": [
    "def printBoard(board):\n",
    "    \n",
    "    print(board[1] + '|' + board[2] + '|' + board[3])\n",
    "    print('-+-+-')\n",
    "    \n",
    "    print(board[4] + '|' + board[5] + '|' + board[6])\n",
    "    print('-+-+-')\n",
    "    \n",
    "    print(board[7] + '|' + board[8] + '|' + board[9])\n",
    "    print(\"\\n\")"
   ]
  },
  {
   "cell_type": "code",
   "execution_count": 3,
   "id": "59f4c8f3-a436-4021-a10f-ce320a8bf5bc",
   "metadata": {},
   "outputs": [
    {
     "name": "stdout",
     "output_type": "stream",
     "text": [
      " | | \n",
      "-+-+-\n",
      " | | \n",
      "-+-+-\n",
      " | | \n",
      "\n",
      "\n"
     ]
    }
   ],
   "source": [
    "printBoard(board)"
   ]
  },
  {
   "cell_type": "code",
   "execution_count": 4,
   "id": "f790647a-d571-4e79-9220-3edce35ba611",
   "metadata": {},
   "outputs": [],
   "source": [
    "def spaceIsFree(position):\n",
    "    \n",
    "    if board[position] == ' ':\n",
    "        \n",
    "        return True\n",
    "    \n",
    "    else:\n",
    "        \n",
    "        return False"
   ]
  },
  {
   "cell_type": "code",
   "execution_count": 5,
   "id": "62729576-2196-4241-9539-b8d5db39929d",
   "metadata": {},
   "outputs": [],
   "source": [
    "def checkDraw():\n",
    "    \n",
    "    for key in board.keys():\n",
    "        \n",
    "        if board[key] == ' ':\n",
    "            \n",
    "            return False\n",
    "        \n",
    "    return True"
   ]
  },
  {
   "cell_type": "code",
   "execution_count": 6,
   "id": "e1c0a06f-2aeb-4ce8-b4ed-fd55e2794d7f",
   "metadata": {},
   "outputs": [],
   "source": [
    "def checkForWin():\n",
    "    \n",
    "    if (board[1] == board[2] and board[1] == board[3] and board[1] != ' '):\n",
    "        \n",
    "        return True\n",
    "    \n",
    "    elif (board[4] == board[5] and board[4] == board[6] and board[4] != ' '):\n",
    "        \n",
    "        return True\n",
    "     \n",
    "    elif (board[7] == board[8] and board[7] == board[9] and board[7] != ' '):\n",
    "        \n",
    "        return True\n",
    "    \n",
    "    elif (board[1] == board[4] and board[1] == board[7] and board[1] != ' '):\n",
    "        \n",
    "        return True\n",
    "    \n",
    "    elif (board[2] == board[5] and board[2] == board[8] and board[2] != ' '):\n",
    "        \n",
    "        return True\n",
    "    \n",
    "    elif (board[3] == board[6] and board[3] == board[9] and board[3] != ' '):\n",
    "        \n",
    "        return True\n",
    "    \n",
    "    elif (board[1] == board[5] and board[1] == board[9] and board[1] != ' '):\n",
    "        \n",
    "        return True\n",
    "    \n",
    "    elif (board[7] == board[5] and board[7] == board[3] and board[7] != ' '):\n",
    "        \n",
    "        return True\n",
    "    \n",
    "    else:\n",
    "        \n",
    "        return False"
   ]
  },
  {
   "cell_type": "code",
   "execution_count": 7,
   "id": "42d957c1-d9a5-4a69-8dcc-148c947d528b",
   "metadata": {},
   "outputs": [],
   "source": [
    "def checkWhichMarkWon(mark):\n",
    "    \n",
    "    if (board[1] == board[2] and board[1] == board[3] and board[1] == mark):\n",
    "        \n",
    "        return True\n",
    "    \n",
    "    elif (board[4] == board[5] and board[4] == board[6] and board[4] == mark):\n",
    "        \n",
    "        return True\n",
    "    \n",
    "    elif (board[7] == board[8] and board[7] == board[9] and board[7] == mark):\n",
    "        \n",
    "        return True\n",
    "    \n",
    "    elif (board[1] == board[4] and board[1] == board[7] and board[1] == mark):\n",
    "        \n",
    "        return True\n",
    "    \n",
    "    elif (board[2] == board[5] and board[2] == board[8] and board[2] == mark):\n",
    "        \n",
    "        return True\n",
    "    \n",
    "    elif (board[3] == board[6] and board[3] == board[9] and board[3] == mark):\n",
    "        \n",
    "        return True\n",
    "    \n",
    "    elif (board[1] == board[5] and board[1] == board[9] and board[1] == mark):\n",
    "        \n",
    "        return True\n",
    "    \n",
    "    elif (board[7] == board[5] and board[7] == board[3] and board[7] == mark):\n",
    "        \n",
    "        return True\n",
    "    \n",
    "    else:\n",
    "        \n",
    "        return False"
   ]
  },
  {
   "cell_type": "code",
   "execution_count": 8,
   "id": "834211d6-72ed-4f51-af24-c4c4d6124829",
   "metadata": {},
   "outputs": [],
   "source": [
    "def insertLetter(letter, position):\n",
    "    \n",
    "    if spaceIsFree(position):\n",
    "        \n",
    "        board[position] = letter\n",
    "        \n",
    "        printBoard(board)\n",
    "        \n",
    "        if (checkDraw()):\n",
    "            \n",
    "            print(\"Draw!\")\n",
    "            \n",
    "            exit()\n",
    "            \n",
    "        if checkForWin():\n",
    "            \n",
    "            if letter == 'x':\n",
    "                \n",
    "                print(\"Computer wins!\")\n",
    "                \n",
    "                exit()\n",
    "            \n",
    "            else:\n",
    "                \n",
    "                print(\"Player wins!\")\n",
    "                \n",
    "                exit()\n",
    "        \n",
    "        return\n",
    "    \n",
    "    else:\n",
    "        \n",
    "        print(\"Can´t insert there!\")\n",
    "        \n",
    "        position = int(input(\"Please enter new position: \"))\n",
    "        \n",
    "        insertLetter(letter, position)\n",
    "        \n",
    "        return\n",
    "    "
   ]
  },
  {
   "cell_type": "code",
   "execution_count": 9,
   "id": "0ab98ab0-568d-4012-a8cf-3ac29af390e8",
   "metadata": {},
   "outputs": [],
   "source": [
    "player = '0'\n",
    "bot = 'x'"
   ]
  },
  {
   "cell_type": "code",
   "execution_count": 10,
   "id": "d2b2218c-8a0b-45ed-8b12-74a326fe561f",
   "metadata": {},
   "outputs": [],
   "source": [
    "def playerMove():\n",
    "    \n",
    "    position = int(input(\"Enter the position for '0': \"))\n",
    "    \n",
    "    insertLetter(player, position)\n",
    "    \n",
    "    return"
   ]
  },
  {
   "cell_type": "code",
   "execution_count": 11,
   "id": "e94f7f33-9aeb-4bb0-9506-d13f24c56726",
   "metadata": {},
   "outputs": [],
   "source": [
    "def compMove():\n",
    "    \n",
    "    bestScore = -1000\n",
    "    \n",
    "    bestMove = 0\n",
    "    \n",
    "    for key in board.keys():\n",
    "        \n",
    "        if (board[key] == ' '):\n",
    "            \n",
    "            board[key] = bot\n",
    "            \n",
    "            score = minimax(board, 0, False)\n",
    "            \n",
    "            board[key] = ' '\n",
    "            \n",
    "            if (score > bestScore):\n",
    "                \n",
    "                bestScore = score\n",
    "                \n",
    "                bestMove = key\n",
    "                \n",
    "    insertLetter(bot, bestMove)\n",
    "        \n",
    "    return"
   ]
  },
  {
   "cell_type": "code",
   "execution_count": 12,
   "id": "26aaec33-186b-4cfe-a42a-c5981d2dfc7f",
   "metadata": {},
   "outputs": [],
   "source": [
    "def minimax(board, depth, isMaximizing):\n",
    "    \n",
    "    if(checkWhichMarkWon(bot)):\n",
    "        \n",
    "        return 100\n",
    "    \n",
    "    elif checkWhichMarkWon(player):\n",
    "        \n",
    "        return -100\n",
    "        \n",
    "    elif checkDraw():\n",
    "        \n",
    "        return 0\n",
    "    \n",
    "    if isMaximizing:\n",
    "        \n",
    "        bestScore = -1000\n",
    "    \n",
    "     \n",
    "        for key in board.keys():\n",
    "            \n",
    "            if (board[key] == ' '):\n",
    "                \n",
    "                board[key] = bot\n",
    "            \n",
    "                score = minimax(board, 0, False)\n",
    "            \n",
    "                board[key] = ' '\n",
    "            \n",
    "                if (score > bestScore):\n",
    "                    \n",
    "                    bestScore = score\n",
    "                \n",
    "                   \n",
    "        return bestScore\n",
    "        \n",
    "    \n",
    "    else:\n",
    "        \n",
    "        bestScore = 800\n",
    "        \n",
    "        for key in board.keys():\n",
    "            \n",
    "            if (board[key] == ' '):\n",
    "                \n",
    "                board[key] = player\n",
    "                \n",
    "                score = minimax(board, 0, True)\n",
    "                \n",
    "                board[key] = ' '\n",
    "                \n",
    "                if (score < bestScore):\n",
    "                    \n",
    "                    bestScore = score\n",
    "                    \n",
    "        return bestScore\n"
   ]
  },
  {
   "cell_type": "code",
   "execution_count": 13,
   "id": "4fcdd5f9-ac5e-4176-ad22-f004a7b585f5",
   "metadata": {},
   "outputs": [],
   "source": [
    "#printBoard(board)"
   ]
  },
  {
   "cell_type": "code",
   "execution_count": 14,
   "id": "e6ea0454-3e5b-4e1b-8ce1-0a812f3930d0",
   "metadata": {},
   "outputs": [],
   "source": [
    "#print(\"Computer goes first! Good luck. \")"
   ]
  },
  {
   "cell_type": "code",
   "execution_count": 15,
   "id": "fa6e7a7a-8b9f-4a78-9f03-4c7798a8e8d3",
   "metadata": {},
   "outputs": [],
   "source": [
    "#print(\"Positions are as follows: \")"
   ]
  },
  {
   "cell_type": "code",
   "execution_count": 16,
   "id": "21d110b3-ed4c-4b37-a5c2-b2fea479d5f1",
   "metadata": {},
   "outputs": [],
   "source": [
    "#print(\"1, 2, 3 \")"
   ]
  },
  {
   "cell_type": "code",
   "execution_count": 17,
   "id": "7ad825e4-7a75-4c74-98cb-494d053e81ec",
   "metadata": {},
   "outputs": [],
   "source": [
    "#print(\"4, 5, 6 \")"
   ]
  },
  {
   "cell_type": "code",
   "execution_count": 18,
   "id": "b3062ab5-686a-4d96-ba73-ea11e9d32e33",
   "metadata": {},
   "outputs": [],
   "source": [
    "#print(\"7, 8, 9 \")"
   ]
  },
  {
   "cell_type": "code",
   "execution_count": 19,
   "id": "97989de3-567b-4460-bce3-9e16ed6aa1b3",
   "metadata": {},
   "outputs": [],
   "source": [
    "#print(\"\\n\")"
   ]
  },
  {
   "cell_type": "code",
   "execution_count": 20,
   "id": "f3f1fe0a-4baf-4f1a-af6d-ecb0db0570de",
   "metadata": {},
   "outputs": [],
   "source": [
    "#player = '0'\n",
    "#bot = 'x'"
   ]
  },
  {
   "cell_type": "code",
   "execution_count": 21,
   "id": "8feb2bcf-63d7-4627-aa69-b605143cf4bb",
   "metadata": {},
   "outputs": [],
   "source": [
    "#global firstComputerMove\n",
    "\n",
    "#firstComputerMove = True"
   ]
  },
  {
   "cell_type": "code",
   "execution_count": null,
   "id": "ba300e14-1b38-4dcb-9285-f362261c8ff5",
   "metadata": {},
   "outputs": [
    {
     "name": "stdout",
     "output_type": "stream",
     "text": [
      "x| | \n",
      "-+-+-\n",
      " | | \n",
      "-+-+-\n",
      " | | \n",
      "\n",
      "\n"
     ]
    },
    {
     "name": "stdout",
     "output_type": "stream",
     "text": [
      "Enter the position for '0':  4\n"
     ]
    },
    {
     "name": "stdout",
     "output_type": "stream",
     "text": [
      "x| | \n",
      "-+-+-\n",
      "0| | \n",
      "-+-+-\n",
      " | | \n",
      "\n",
      "\n",
      "x|x| \n",
      "-+-+-\n",
      "0| | \n",
      "-+-+-\n",
      " | | \n",
      "\n",
      "\n"
     ]
    },
    {
     "name": "stdout",
     "output_type": "stream",
     "text": [
      "Enter the position for '0':  3\n"
     ]
    },
    {
     "name": "stdout",
     "output_type": "stream",
     "text": [
      "x|x|0\n",
      "-+-+-\n",
      "0| | \n",
      "-+-+-\n",
      " | | \n",
      "\n",
      "\n",
      "x|x|0\n",
      "-+-+-\n",
      "0|x| \n",
      "-+-+-\n",
      " | | \n",
      "\n",
      "\n"
     ]
    },
    {
     "name": "stdout",
     "output_type": "stream",
     "text": [
      "Enter the position for '0':  5\n"
     ]
    },
    {
     "name": "stdout",
     "output_type": "stream",
     "text": [
      "Can´t insert there!\n"
     ]
    },
    {
     "name": "stdout",
     "output_type": "stream",
     "text": [
      "Please enter new position:  8\n"
     ]
    },
    {
     "name": "stdout",
     "output_type": "stream",
     "text": [
      "x|x|0\n",
      "-+-+-\n",
      "0|x| \n",
      "-+-+-\n",
      " |0| \n",
      "\n",
      "\n",
      "x|x|0\n",
      "-+-+-\n",
      "0|x| \n",
      "-+-+-\n",
      " |0|x\n",
      "\n",
      "\n",
      "Computer wins!\n"
     ]
    }
   ],
   "source": [
    "while not checkForWin():\n",
    "    \n",
    "    compMove()\n",
    "    playerMove()"
   ]
  },
  {
   "cell_type": "code",
   "execution_count": null,
   "id": "db92cd48-3874-456c-9260-88dcf2d27518",
   "metadata": {},
   "outputs": [],
   "source": []
  }
 ],
 "metadata": {
  "kernelspec": {
   "display_name": "Python 3 (ipykernel)",
   "language": "python",
   "name": "python3"
  },
  "language_info": {
   "codemirror_mode": {
    "name": "ipython",
    "version": 3
   },
   "file_extension": ".py",
   "mimetype": "text/x-python",
   "name": "python",
   "nbconvert_exporter": "python",
   "pygments_lexer": "ipython3",
   "version": "3.9.7"
  }
 },
 "nbformat": 4,
 "nbformat_minor": 5
}
