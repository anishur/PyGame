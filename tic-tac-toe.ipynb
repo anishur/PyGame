{
 "cells": [
  {
   "cell_type": "code",
   "execution_count": 2,
   "id": "b52ce0a0-5240-4ea0-8996-d2ab14ad7a1a",
   "metadata": {},
   "outputs": [],
   "source": [
    "#Jupyter notebook\n",
    "#board \n",
    "#display board\n",
    "#play game\n",
    "#handle turn\n",
    "#check win\n",
    " #check rows\n",
    " #check columns\n",
    " #check diagonals\n",
    "#check tie\n",
    "#flip player"
   ]
  },
  {
   "cell_type": "code",
   "execution_count": 3,
   "id": "884291b3-2dc1-46be-be0b-5bed326cbf65",
   "metadata": {},
   "outputs": [],
   "source": [
    ""
   ]
  },
  {
   "cell_type": "code",
   "execution_count": 4,
   "id": "071ffb76-9009-42f9-91b4-92f0633f2d52",
   "metadata": {},
   "outputs": [],
   "source": [
    "# Game board\n",
    "\n",
    "board = [\"-\", \"-\", \"-\",\n",
    "         \"-\", \"-\", \"-\",\n",
    "         \"-\", \"-\", \"-\"]"
   ]
  },
  {
   "cell_type": "code",
   "execution_count": 5,
   "id": "fe04f2f5-bf37-49b1-9126-b927ce2fe435",
   "metadata": {},
   "outputs": [],
   "source": [
    "# if game is still going\n",
    "\n",
    "game_still_going = True"
   ]
  },
  {
   "cell_type": "code",
   "execution_count": 6,
   "id": "b023f6f7-1b1b-4fb2-acd4-006bc4fab76d",
   "metadata": {},
   "outputs": [],
   "source": [
    "# Who won? or tie?\n",
    "\n",
    "winner = None "
   ]
  },
  {
   "cell_type": "code",
   "execution_count": 7,
   "id": "37a8b093-f37c-4e6f-8528-46bca133beb5",
   "metadata": {},
   "outputs": [],
   "source": [
    "# Whos turn is it?\n",
    "\n",
    "current_player = \"x\""
   ]
  },
  {
   "cell_type": "code",
   "execution_count": 8,
   "id": "3db1d64f-11b8-441b-aaa4-dbd3c314aa42",
   "metadata": {},
   "outputs": [],
   "source": [
    "# display board\n",
    "\n",
    "def display_board():\n",
    "    print(board[0] + \" | \" + board[1] + \" | \" + board[2])\n",
    "    print(board[3] + \" | \" + board[4] + \" | \" + board[5])\n",
    "    print(board[6] + \" | \" + board[7] + \" | \" + board[8])\n",
    "    "
   ]
  },
  {
   "cell_type": "code",
   "execution_count": 9,
   "id": "4a08ec89-2c3d-4685-b160-57aecb8edbc3",
   "metadata": {},
   "outputs": [
    {
     "name": "stdout",
     "output_type": "stream",
     "text": [
      "- | - | -\n",
      "- | - | -\n",
      "- | - | -\n"
     ]
    }
   ],
   "source": [
    "display_board()"
   ]
  },
  {
   "cell_type": "code",
   "execution_count": 10,
   "id": "0db59af1-ec49-4924-8428-a83aecf3a0a0",
   "metadata": {},
   "outputs": [],
   "source": [
    "# Play a game of tic tac toe\n",
    "\n",
    "def play_game():\n",
    "    \n",
    "    #display initial board\n",
    "    display_board()\n",
    "    \n",
    "    # while the game is still going\n",
    "    while game_still_going:\n",
    "        \n",
    "        # handle a single turn of an arbitrary player\n",
    "        handle_turn(current_player)\n",
    "        \n",
    "        # check if the game has ended\n",
    "        check_if_game_over()\n",
    "        \n",
    "        # flip to the other player\n",
    "        flip_player()\n",
    "        \n",
    "    # The game has ended\n",
    "    \n",
    "    if winner == \"x\" or winner == \"0\":\n",
    "        \n",
    "        print(winner + \" won. \")\n",
    "        \n",
    "    elif winner == None:\n",
    "        \n",
    "        print(\" Tie. \")\n",
    "        "
   ]
  },
  {
   "cell_type": "code",
   "execution_count": 11,
   "id": "b126bcb3-7097-4fcd-afe0-77f39f7079f3",
   "metadata": {},
   "outputs": [],
   "source": [
    "# handle a single turn of an arbitrary player\n",
    "\n",
    "def handle_turn(player):\n",
    "    \n",
    "    \n",
    "    print(player + \"'s turn.\")\n",
    "    position = input(\"Choose a position from 1-9: \")\n",
    "    \n",
    "    valid = False\n",
    "    \n",
    "    while not valid:      \n",
    "        \n",
    "        while position not in [\"1\",\"2\",\"3\",\"4\",\"5\",\"6\",\"7\",\"8\",\"9\"]:\n",
    "            position = input(\"Choose a position from 1-9: \")\n",
    "        \n",
    "        position = int(position) - 1\n",
    "        \n",
    "        if board[position] == \"-\":\n",
    "            \n",
    "            valid = True\n",
    "        \n",
    "        else:\n",
    "            \n",
    "            print(\"You can´t go there. Go again.\")\n",
    "    \n",
    "    board[position] = player\n",
    "    \n",
    "    display_board()"
   ]
  },
  {
   "cell_type": "code",
   "execution_count": 12,
   "id": "3e7f4409-4ef2-4de0-9595-d908f6d6ab91",
   "metadata": {},
   "outputs": [],
   "source": [
    "def check_if_game_over():\n",
    "    \n",
    "    check_for_winner()\n",
    "    check_if_tie()\n",
    "    "
   ]
  },
  {
   "cell_type": "code",
   "execution_count": 13,
   "id": "b74b6740-b8f4-4707-bbef-bfacffe809f0",
   "metadata": {},
   "outputs": [],
   "source": [
    "def check_for_winner():\n",
    "    \n",
    "    # Set up global variable\n",
    "    \n",
    "    global winner\n",
    "    \n",
    "    #check rows\n",
    "    row_winner = check_rows()\n",
    "    \n",
    "    #check columns\n",
    "    column_winner = check_columns()\n",
    "    \n",
    "    #check diagonals\n",
    "    diagonal_winner = check_diagonals()\n",
    "    \n",
    "    # Get the winner\n",
    "    if row_winner:\n",
    "        \n",
    "        winner = row_winner\n",
    "        \n",
    "    elif column_winner:\n",
    "        \n",
    "        winner = column_winner\n",
    "    \n",
    "    elif diagonal_winner:\n",
    "\n",
    "        winner = diagonal_winner\n",
    "    \n",
    "    else:\n",
    "        #there was no win\n",
    "        \n",
    "        winner = None\n",
    "    \n",
    "    return"
   ]
  },
  {
   "cell_type": "code",
   "execution_count": 14,
   "id": "62d30235-2cc7-4f09-96d6-cb57d1ea9199",
   "metadata": {},
   "outputs": [],
   "source": [
    "def check_rows():\n",
    "    \n",
    "    # set up global variables\n",
    "    global game_still_going\n",
    "    \n",
    "    # check if any of the columns have all the same value (and is not empty)\n",
    "    \n",
    "    row_1 = board[0] == board[1] == board[2] != \"-\"\n",
    "    row_2 = board[3] == board[4] == board[5] != \"-\"\n",
    "    row_3 = board[6] == board[7] == board[8] != \"-\"\n",
    "    \n",
    "    # if any column does have a match, flag that there is a win\n",
    "    \n",
    "    if row_1 or row_2 or row_3:\n",
    "        \n",
    "        game_still_going = False\n",
    "    \n",
    "    # Return the winner (x or 0)\n",
    "    \n",
    "    if row_1:\n",
    "        \n",
    "        return board[0]\n",
    "    \n",
    "    elif row_2:\n",
    "        \n",
    "         return board[3]\n",
    "        \n",
    "    elif row_3:\n",
    "        \n",
    "         return board[6]\n",
    "        \n",
    "    return"
   ]
  },
  {
   "cell_type": "code",
   "execution_count": 15,
   "id": "df9d51da-6747-442a-be4d-1d3e65f5e879",
   "metadata": {},
   "outputs": [],
   "source": [
    "def check_columns():\n",
    "    \n",
    "    # set up global variables\n",
    "    global game_still_going\n",
    "    \n",
    "    # check if any of the columns have all the same value (and is not empty)\n",
    "    \n",
    "    column_1 = board[0] == board[3] == board[6] != \"-\"\n",
    "    column_2 = board[1] == board[4] == board[7] != \"-\"\n",
    "    column_3 = board[2] == board[5] == board[8] != \"-\"\n",
    "    \n",
    "    # if any column does have a match, flag that there is a win\n",
    "    \n",
    "    if column_1 or column_2 or column_3:\n",
    "        \n",
    "        game_still_going = False\n",
    "    \n",
    "    # Return the winner (x or 0)\n",
    "    \n",
    "    if column_1:\n",
    "        \n",
    "        return board[0]\n",
    "    \n",
    "    elif column_2:\n",
    "        \n",
    "         return board[1]\n",
    "        \n",
    "    elif column_3:\n",
    "        \n",
    "         return board[2]\n",
    "        \n",
    "    return\n"
   ]
  },
  {
   "cell_type": "code",
   "execution_count": 16,
   "id": "65383c68-5c04-41af-b450-81465bbbc540",
   "metadata": {},
   "outputs": [],
   "source": [
    "def check_diagonals():\n",
    "    \n",
    "    # set up global variables\n",
    "    global game_still_going\n",
    "    \n",
    "    # check if any of the diagonals have all the same value (and is not empty)\n",
    "    \n",
    "    diagonals_1 = board[0] == board[4] == board[8] != \"-\"\n",
    "    diagonals_2 = board[6] == board[4] == board[2] != \"-\"\n",
    "   \n",
    "    \n",
    "    # if any column does have a match, flag that there is a win\n",
    "    \n",
    "    if diagonals_1 or diagonals_2:\n",
    "        \n",
    "        game_still_going = False\n",
    "    \n",
    "    # Return the winner (x or 0)\n",
    "    \n",
    "    if diagonals_1:\n",
    "        \n",
    "        return board[0]\n",
    "    \n",
    "    elif diagonals_2:\n",
    "        \n",
    "         return board[6]\n",
    "        \n",
    "    return\n",
    " "
   ]
  },
  {
   "cell_type": "code",
   "execution_count": 17,
   "id": "d66e0673-c849-403b-8a64-1d9a94109538",
   "metadata": {},
   "outputs": [],
   "source": [
    "def check_if_tie():\n",
    "    \n",
    "    global game_still_going\n",
    "    \n",
    "    if \"-\" not in board:\n",
    "        \n",
    "        game_still_going = False\n",
    "      \n",
    "    return"
   ]
  },
  {
   "cell_type": "code",
   "execution_count": 24,
   "id": "a946d055-005b-49f6-a8d2-34da27f33756",
   "metadata": {},
   "outputs": [],
   "source": [
    "def flip_player():\n",
    "    \n",
    "    # global variables we need\n",
    "    \n",
    "    global current_player\n",
    "    \n",
    "    #if the current player was x, then change it to 0\n",
    "    \n",
    "    if current_player == \"x\":\n",
    "        \n",
    "        current_player = \"0\"\n",
    "        \n",
    "        # if the current player was 0, then change it to x\n",
    "    \n",
    "    elif current_player == \"0\":\n",
    "        \n",
    "        current_player = \"x\"\n",
    "      \n",
    "    return"
   ]
  },
  {
   "cell_type": "code",
   "execution_count": 25,
   "id": "84cc5874-58e9-485b-b891-88b06596cf14",
   "metadata": {},
   "outputs": [],
   "source": [
    "def main():    \n",
    "    play_game()"
   ]
  },
  {
   "cell_type": "code",
   "execution_count": 26,
   "id": "cf895208-346c-4240-a460-de12d2ba0eeb",
   "metadata": {},
   "outputs": [
    {
     "name": "stdout",
     "output_type": "stream",
     "text": [
      "x | 0 | x\n",
      "- | x | 0\n",
      "0 | - | x\n",
      "x won. \n"
     ]
    }
   ],
   "source": [
    "if __name__ =='__main__':\n",
    "    main()"
   ]
  },
  {
   "cell_type": "code",
   "execution_count": 1,
   "id": "bf6f697e-f2ce-48ac-88cd-5434a1fe559f",
   "metadata": {},
   "outputs": [],
   "source": [
    "#play_game()"
   ]
  },
  {
   "cell_type": "code",
   "execution_count": null,
   "id": "831083ae-52bd-4f67-8e4c-f93e90d602ef",
   "metadata": {},
   "outputs": [],
   "source": []
  },
  {
   "cell_type": "code",
   "execution_count": null,
   "id": "638f374d-2a1c-471a-8c23-47355b3813d6",
   "metadata": {},
   "outputs": [],
   "source": []
  }
 ],
 "metadata": {
  "kernelspec": {
   "display_name": "Python 3 (ipykernel)",
   "language": "python",
   "name": "python3"
  },
  "language_info": {
   "codemirror_mode": {
    "name": "ipython",
    "version": 3
   },
   "file_extension": ".py",
   "mimetype": "text/x-python",
   "name": "python",
   "nbconvert_exporter": "python",
   "pygments_lexer": "ipython3",
   "version": "3.9.7"
  }
 },
 "nbformat": 4,
 "nbformat_minor": 5
}
